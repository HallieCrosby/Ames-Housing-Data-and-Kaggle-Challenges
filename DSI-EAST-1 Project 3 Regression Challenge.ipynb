{
 "cells": [
  {
   "cell_type": "markdown",
   "metadata": {},
   "source": [
    "# Regression Challenge\n",
    "I will use the Ames housing data to create a regression model that predicts the price of houses in Ames, IA."
   ]
  },
  {
   "cell_type": "markdown",
   "metadata": {},
   "source": [
    "---\n",
    "## Reading in data"
   ]
  },
  {
   "cell_type": "code",
   "execution_count": 261,
   "metadata": {
    "collapsed": true
   },
   "outputs": [],
   "source": [
    "import pandas as pd"
   ]
  },
  {
   "cell_type": "code",
   "execution_count": 262,
   "metadata": {
    "collapsed": true
   },
   "outputs": [],
   "source": [
    "df = pd.read_csv('train.csv')"
   ]
  },
  {
   "cell_type": "markdown",
   "metadata": {},
   "source": [
    "## EDA"
   ]
  },
  {
   "cell_type": "code",
   "execution_count": 263,
   "metadata": {},
   "outputs": [
    {
     "data": {
      "text/html": [
       "<div>\n",
       "<style>\n",
       "    .dataframe thead tr:only-child th {\n",
       "        text-align: right;\n",
       "    }\n",
       "\n",
       "    .dataframe thead th {\n",
       "        text-align: left;\n",
       "    }\n",
       "\n",
       "    .dataframe tbody tr th {\n",
       "        vertical-align: top;\n",
       "    }\n",
       "</style>\n",
       "<table border=\"1\" class=\"dataframe\">\n",
       "  <thead>\n",
       "    <tr style=\"text-align: right;\">\n",
       "      <th></th>\n",
       "      <th>Id</th>\n",
       "      <th>PID</th>\n",
       "      <th>MS SubClass</th>\n",
       "      <th>MS Zoning</th>\n",
       "      <th>Lot Frontage</th>\n",
       "      <th>Lot Area</th>\n",
       "      <th>Street</th>\n",
       "      <th>Alley</th>\n",
       "      <th>Lot Shape</th>\n",
       "      <th>Land Contour</th>\n",
       "      <th>...</th>\n",
       "      <th>Pool Area</th>\n",
       "      <th>Pool QC</th>\n",
       "      <th>Fence</th>\n",
       "      <th>Misc Feature</th>\n",
       "      <th>Misc Val</th>\n",
       "      <th>Mo Sold</th>\n",
       "      <th>Yr Sold</th>\n",
       "      <th>Sale Type</th>\n",
       "      <th>Sale Condition</th>\n",
       "      <th>SalePrice</th>\n",
       "    </tr>\n",
       "  </thead>\n",
       "  <tbody>\n",
       "    <tr>\n",
       "      <th>0</th>\n",
       "      <td>109</td>\n",
       "      <td>533352170</td>\n",
       "      <td>60</td>\n",
       "      <td>RL</td>\n",
       "      <td>NaN</td>\n",
       "      <td>13517</td>\n",
       "      <td>Pave</td>\n",
       "      <td>NaN</td>\n",
       "      <td>IR1</td>\n",
       "      <td>Lvl</td>\n",
       "      <td>...</td>\n",
       "      <td>0</td>\n",
       "      <td>NaN</td>\n",
       "      <td>NaN</td>\n",
       "      <td>NaN</td>\n",
       "      <td>0</td>\n",
       "      <td>3</td>\n",
       "      <td>2010</td>\n",
       "      <td>WD</td>\n",
       "      <td>Normal</td>\n",
       "      <td>130500</td>\n",
       "    </tr>\n",
       "    <tr>\n",
       "      <th>1</th>\n",
       "      <td>544</td>\n",
       "      <td>531379050</td>\n",
       "      <td>60</td>\n",
       "      <td>RL</td>\n",
       "      <td>43.0</td>\n",
       "      <td>11492</td>\n",
       "      <td>Pave</td>\n",
       "      <td>NaN</td>\n",
       "      <td>IR1</td>\n",
       "      <td>Lvl</td>\n",
       "      <td>...</td>\n",
       "      <td>0</td>\n",
       "      <td>NaN</td>\n",
       "      <td>NaN</td>\n",
       "      <td>NaN</td>\n",
       "      <td>0</td>\n",
       "      <td>4</td>\n",
       "      <td>2009</td>\n",
       "      <td>WD</td>\n",
       "      <td>Normal</td>\n",
       "      <td>220000</td>\n",
       "    </tr>\n",
       "    <tr>\n",
       "      <th>2</th>\n",
       "      <td>153</td>\n",
       "      <td>535304180</td>\n",
       "      <td>20</td>\n",
       "      <td>RL</td>\n",
       "      <td>68.0</td>\n",
       "      <td>7922</td>\n",
       "      <td>Pave</td>\n",
       "      <td>NaN</td>\n",
       "      <td>Reg</td>\n",
       "      <td>Lvl</td>\n",
       "      <td>...</td>\n",
       "      <td>0</td>\n",
       "      <td>NaN</td>\n",
       "      <td>NaN</td>\n",
       "      <td>NaN</td>\n",
       "      <td>0</td>\n",
       "      <td>1</td>\n",
       "      <td>2010</td>\n",
       "      <td>WD</td>\n",
       "      <td>Abnorml</td>\n",
       "      <td>109000</td>\n",
       "    </tr>\n",
       "    <tr>\n",
       "      <th>3</th>\n",
       "      <td>318</td>\n",
       "      <td>916386060</td>\n",
       "      <td>60</td>\n",
       "      <td>RL</td>\n",
       "      <td>73.0</td>\n",
       "      <td>9802</td>\n",
       "      <td>Pave</td>\n",
       "      <td>NaN</td>\n",
       "      <td>Reg</td>\n",
       "      <td>Lvl</td>\n",
       "      <td>...</td>\n",
       "      <td>0</td>\n",
       "      <td>NaN</td>\n",
       "      <td>NaN</td>\n",
       "      <td>NaN</td>\n",
       "      <td>0</td>\n",
       "      <td>4</td>\n",
       "      <td>2010</td>\n",
       "      <td>WD</td>\n",
       "      <td>Normal</td>\n",
       "      <td>174000</td>\n",
       "    </tr>\n",
       "    <tr>\n",
       "      <th>4</th>\n",
       "      <td>255</td>\n",
       "      <td>906425045</td>\n",
       "      <td>50</td>\n",
       "      <td>RL</td>\n",
       "      <td>82.0</td>\n",
       "      <td>14235</td>\n",
       "      <td>Pave</td>\n",
       "      <td>NaN</td>\n",
       "      <td>IR1</td>\n",
       "      <td>Lvl</td>\n",
       "      <td>...</td>\n",
       "      <td>0</td>\n",
       "      <td>NaN</td>\n",
       "      <td>NaN</td>\n",
       "      <td>NaN</td>\n",
       "      <td>0</td>\n",
       "      <td>3</td>\n",
       "      <td>2010</td>\n",
       "      <td>WD</td>\n",
       "      <td>Normal</td>\n",
       "      <td>138500</td>\n",
       "    </tr>\n",
       "  </tbody>\n",
       "</table>\n",
       "<p>5 rows × 82 columns</p>\n",
       "</div>"
      ],
      "text/plain": [
       "    Id        PID  MS SubClass MS Zoning  Lot Frontage  Lot Area Street Alley  \\\n",
       "0  109  533352170           60        RL           NaN     13517   Pave   NaN   \n",
       "1  544  531379050           60        RL          43.0     11492   Pave   NaN   \n",
       "2  153  535304180           20        RL          68.0      7922   Pave   NaN   \n",
       "3  318  916386060           60        RL          73.0      9802   Pave   NaN   \n",
       "4  255  906425045           50        RL          82.0     14235   Pave   NaN   \n",
       "\n",
       "  Lot Shape Land Contour    ...     Pool Area Pool QC Fence Misc Feature  \\\n",
       "0       IR1          Lvl    ...             0     NaN   NaN          NaN   \n",
       "1       IR1          Lvl    ...             0     NaN   NaN          NaN   \n",
       "2       Reg          Lvl    ...             0     NaN   NaN          NaN   \n",
       "3       Reg          Lvl    ...             0     NaN   NaN          NaN   \n",
       "4       IR1          Lvl    ...             0     NaN   NaN          NaN   \n",
       "\n",
       "  Misc Val Mo Sold Yr Sold Sale Type  Sale Condition  SalePrice  \n",
       "0        0       3    2010       WD           Normal     130500  \n",
       "1        0       4    2009       WD           Normal     220000  \n",
       "2        0       1    2010       WD          Abnorml     109000  \n",
       "3        0       4    2010       WD           Normal     174000  \n",
       "4        0       3    2010       WD           Normal     138500  \n",
       "\n",
       "[5 rows x 82 columns]"
      ]
     },
     "execution_count": 263,
     "metadata": {},
     "output_type": "execute_result"
    }
   ],
   "source": [
    "df.head()"
   ]
  },
  {
   "cell_type": "code",
   "execution_count": 264,
   "metadata": {},
   "outputs": [
    {
     "data": {
      "text/html": [
       "<div>\n",
       "<style>\n",
       "    .dataframe thead tr:only-child th {\n",
       "        text-align: right;\n",
       "    }\n",
       "\n",
       "    .dataframe thead th {\n",
       "        text-align: left;\n",
       "    }\n",
       "\n",
       "    .dataframe tbody tr th {\n",
       "        vertical-align: top;\n",
       "    }\n",
       "</style>\n",
       "<table border=\"1\" class=\"dataframe\">\n",
       "  <thead>\n",
       "    <tr style=\"text-align: right;\">\n",
       "      <th></th>\n",
       "      <th>Id</th>\n",
       "      <th>PID</th>\n",
       "      <th>MS SubClass</th>\n",
       "      <th>Lot Frontage</th>\n",
       "      <th>Lot Area</th>\n",
       "      <th>Overall Qual</th>\n",
       "      <th>Overall Cond</th>\n",
       "      <th>Year Built</th>\n",
       "      <th>Year Remod/Add</th>\n",
       "      <th>Mas Vnr Area</th>\n",
       "      <th>...</th>\n",
       "      <th>Wood Deck SF</th>\n",
       "      <th>Open Porch SF</th>\n",
       "      <th>Enclosed Porch</th>\n",
       "      <th>3Ssn Porch</th>\n",
       "      <th>Screen Porch</th>\n",
       "      <th>Pool Area</th>\n",
       "      <th>Misc Val</th>\n",
       "      <th>Mo Sold</th>\n",
       "      <th>Yr Sold</th>\n",
       "      <th>SalePrice</th>\n",
       "    </tr>\n",
       "  </thead>\n",
       "  <tbody>\n",
       "    <tr>\n",
       "      <th>count</th>\n",
       "      <td>2051.000000</td>\n",
       "      <td>2.051000e+03</td>\n",
       "      <td>2051.000000</td>\n",
       "      <td>1721.000000</td>\n",
       "      <td>2051.000000</td>\n",
       "      <td>2051.000000</td>\n",
       "      <td>2051.000000</td>\n",
       "      <td>2051.000000</td>\n",
       "      <td>2051.000000</td>\n",
       "      <td>2029.000000</td>\n",
       "      <td>...</td>\n",
       "      <td>2051.000000</td>\n",
       "      <td>2051.000000</td>\n",
       "      <td>2051.000000</td>\n",
       "      <td>2051.000000</td>\n",
       "      <td>2051.000000</td>\n",
       "      <td>2051.000000</td>\n",
       "      <td>2051.000000</td>\n",
       "      <td>2051.000000</td>\n",
       "      <td>2051.000000</td>\n",
       "      <td>2051.000000</td>\n",
       "    </tr>\n",
       "    <tr>\n",
       "      <th>mean</th>\n",
       "      <td>1474.033642</td>\n",
       "      <td>7.135900e+08</td>\n",
       "      <td>57.008776</td>\n",
       "      <td>69.055200</td>\n",
       "      <td>10065.208191</td>\n",
       "      <td>6.112140</td>\n",
       "      <td>5.562165</td>\n",
       "      <td>1971.708922</td>\n",
       "      <td>1984.190151</td>\n",
       "      <td>99.695909</td>\n",
       "      <td>...</td>\n",
       "      <td>93.833740</td>\n",
       "      <td>47.556802</td>\n",
       "      <td>22.571916</td>\n",
       "      <td>2.591419</td>\n",
       "      <td>16.511458</td>\n",
       "      <td>2.397855</td>\n",
       "      <td>51.574354</td>\n",
       "      <td>6.219893</td>\n",
       "      <td>2007.775719</td>\n",
       "      <td>181469.701609</td>\n",
       "    </tr>\n",
       "    <tr>\n",
       "      <th>std</th>\n",
       "      <td>843.980841</td>\n",
       "      <td>1.886918e+08</td>\n",
       "      <td>42.824223</td>\n",
       "      <td>23.260653</td>\n",
       "      <td>6742.488909</td>\n",
       "      <td>1.426271</td>\n",
       "      <td>1.104497</td>\n",
       "      <td>30.177889</td>\n",
       "      <td>21.036250</td>\n",
       "      <td>174.963129</td>\n",
       "      <td>...</td>\n",
       "      <td>128.549416</td>\n",
       "      <td>66.747241</td>\n",
       "      <td>59.845110</td>\n",
       "      <td>25.229615</td>\n",
       "      <td>57.374204</td>\n",
       "      <td>37.782570</td>\n",
       "      <td>573.393985</td>\n",
       "      <td>2.744736</td>\n",
       "      <td>1.312014</td>\n",
       "      <td>79258.659352</td>\n",
       "    </tr>\n",
       "    <tr>\n",
       "      <th>min</th>\n",
       "      <td>1.000000</td>\n",
       "      <td>5.263011e+08</td>\n",
       "      <td>20.000000</td>\n",
       "      <td>21.000000</td>\n",
       "      <td>1300.000000</td>\n",
       "      <td>1.000000</td>\n",
       "      <td>1.000000</td>\n",
       "      <td>1872.000000</td>\n",
       "      <td>1950.000000</td>\n",
       "      <td>0.000000</td>\n",
       "      <td>...</td>\n",
       "      <td>0.000000</td>\n",
       "      <td>0.000000</td>\n",
       "      <td>0.000000</td>\n",
       "      <td>0.000000</td>\n",
       "      <td>0.000000</td>\n",
       "      <td>0.000000</td>\n",
       "      <td>0.000000</td>\n",
       "      <td>1.000000</td>\n",
       "      <td>2006.000000</td>\n",
       "      <td>12789.000000</td>\n",
       "    </tr>\n",
       "    <tr>\n",
       "      <th>25%</th>\n",
       "      <td>753.500000</td>\n",
       "      <td>5.284581e+08</td>\n",
       "      <td>20.000000</td>\n",
       "      <td>58.000000</td>\n",
       "      <td>7500.000000</td>\n",
       "      <td>5.000000</td>\n",
       "      <td>5.000000</td>\n",
       "      <td>1953.500000</td>\n",
       "      <td>1964.500000</td>\n",
       "      <td>0.000000</td>\n",
       "      <td>...</td>\n",
       "      <td>0.000000</td>\n",
       "      <td>0.000000</td>\n",
       "      <td>0.000000</td>\n",
       "      <td>0.000000</td>\n",
       "      <td>0.000000</td>\n",
       "      <td>0.000000</td>\n",
       "      <td>0.000000</td>\n",
       "      <td>4.000000</td>\n",
       "      <td>2007.000000</td>\n",
       "      <td>129825.000000</td>\n",
       "    </tr>\n",
       "    <tr>\n",
       "      <th>50%</th>\n",
       "      <td>1486.000000</td>\n",
       "      <td>5.354532e+08</td>\n",
       "      <td>50.000000</td>\n",
       "      <td>68.000000</td>\n",
       "      <td>9430.000000</td>\n",
       "      <td>6.000000</td>\n",
       "      <td>5.000000</td>\n",
       "      <td>1974.000000</td>\n",
       "      <td>1993.000000</td>\n",
       "      <td>0.000000</td>\n",
       "      <td>...</td>\n",
       "      <td>0.000000</td>\n",
       "      <td>27.000000</td>\n",
       "      <td>0.000000</td>\n",
       "      <td>0.000000</td>\n",
       "      <td>0.000000</td>\n",
       "      <td>0.000000</td>\n",
       "      <td>0.000000</td>\n",
       "      <td>6.000000</td>\n",
       "      <td>2008.000000</td>\n",
       "      <td>162500.000000</td>\n",
       "    </tr>\n",
       "    <tr>\n",
       "      <th>75%</th>\n",
       "      <td>2198.000000</td>\n",
       "      <td>9.071801e+08</td>\n",
       "      <td>70.000000</td>\n",
       "      <td>80.000000</td>\n",
       "      <td>11513.500000</td>\n",
       "      <td>7.000000</td>\n",
       "      <td>6.000000</td>\n",
       "      <td>2001.000000</td>\n",
       "      <td>2004.000000</td>\n",
       "      <td>161.000000</td>\n",
       "      <td>...</td>\n",
       "      <td>168.000000</td>\n",
       "      <td>70.000000</td>\n",
       "      <td>0.000000</td>\n",
       "      <td>0.000000</td>\n",
       "      <td>0.000000</td>\n",
       "      <td>0.000000</td>\n",
       "      <td>0.000000</td>\n",
       "      <td>8.000000</td>\n",
       "      <td>2009.000000</td>\n",
       "      <td>214000.000000</td>\n",
       "    </tr>\n",
       "    <tr>\n",
       "      <th>max</th>\n",
       "      <td>2930.000000</td>\n",
       "      <td>9.241520e+08</td>\n",
       "      <td>190.000000</td>\n",
       "      <td>313.000000</td>\n",
       "      <td>159000.000000</td>\n",
       "      <td>10.000000</td>\n",
       "      <td>9.000000</td>\n",
       "      <td>2010.000000</td>\n",
       "      <td>2010.000000</td>\n",
       "      <td>1600.000000</td>\n",
       "      <td>...</td>\n",
       "      <td>1424.000000</td>\n",
       "      <td>547.000000</td>\n",
       "      <td>432.000000</td>\n",
       "      <td>508.000000</td>\n",
       "      <td>490.000000</td>\n",
       "      <td>800.000000</td>\n",
       "      <td>17000.000000</td>\n",
       "      <td>12.000000</td>\n",
       "      <td>2010.000000</td>\n",
       "      <td>611657.000000</td>\n",
       "    </tr>\n",
       "  </tbody>\n",
       "</table>\n",
       "<p>8 rows × 39 columns</p>\n",
       "</div>"
      ],
      "text/plain": [
       "                Id           PID  MS SubClass  Lot Frontage       Lot Area  \\\n",
       "count  2051.000000  2.051000e+03  2051.000000   1721.000000    2051.000000   \n",
       "mean   1474.033642  7.135900e+08    57.008776     69.055200   10065.208191   \n",
       "std     843.980841  1.886918e+08    42.824223     23.260653    6742.488909   \n",
       "min       1.000000  5.263011e+08    20.000000     21.000000    1300.000000   \n",
       "25%     753.500000  5.284581e+08    20.000000     58.000000    7500.000000   \n",
       "50%    1486.000000  5.354532e+08    50.000000     68.000000    9430.000000   \n",
       "75%    2198.000000  9.071801e+08    70.000000     80.000000   11513.500000   \n",
       "max    2930.000000  9.241520e+08   190.000000    313.000000  159000.000000   \n",
       "\n",
       "       Overall Qual  Overall Cond   Year Built  Year Remod/Add  Mas Vnr Area  \\\n",
       "count   2051.000000   2051.000000  2051.000000     2051.000000   2029.000000   \n",
       "mean       6.112140      5.562165  1971.708922     1984.190151     99.695909   \n",
       "std        1.426271      1.104497    30.177889       21.036250    174.963129   \n",
       "min        1.000000      1.000000  1872.000000     1950.000000      0.000000   \n",
       "25%        5.000000      5.000000  1953.500000     1964.500000      0.000000   \n",
       "50%        6.000000      5.000000  1974.000000     1993.000000      0.000000   \n",
       "75%        7.000000      6.000000  2001.000000     2004.000000    161.000000   \n",
       "max       10.000000      9.000000  2010.000000     2010.000000   1600.000000   \n",
       "\n",
       "           ...        Wood Deck SF  Open Porch SF  Enclosed Porch  \\\n",
       "count      ...         2051.000000    2051.000000     2051.000000   \n",
       "mean       ...           93.833740      47.556802       22.571916   \n",
       "std        ...          128.549416      66.747241       59.845110   \n",
       "min        ...            0.000000       0.000000        0.000000   \n",
       "25%        ...            0.000000       0.000000        0.000000   \n",
       "50%        ...            0.000000      27.000000        0.000000   \n",
       "75%        ...          168.000000      70.000000        0.000000   \n",
       "max        ...         1424.000000     547.000000      432.000000   \n",
       "\n",
       "        3Ssn Porch  Screen Porch    Pool Area      Misc Val      Mo Sold  \\\n",
       "count  2051.000000   2051.000000  2051.000000   2051.000000  2051.000000   \n",
       "mean      2.591419     16.511458     2.397855     51.574354     6.219893   \n",
       "std      25.229615     57.374204    37.782570    573.393985     2.744736   \n",
       "min       0.000000      0.000000     0.000000      0.000000     1.000000   \n",
       "25%       0.000000      0.000000     0.000000      0.000000     4.000000   \n",
       "50%       0.000000      0.000000     0.000000      0.000000     6.000000   \n",
       "75%       0.000000      0.000000     0.000000      0.000000     8.000000   \n",
       "max     508.000000    490.000000   800.000000  17000.000000    12.000000   \n",
       "\n",
       "           Yr Sold      SalePrice  \n",
       "count  2051.000000    2051.000000  \n",
       "mean   2007.775719  181469.701609  \n",
       "std       1.312014   79258.659352  \n",
       "min    2006.000000   12789.000000  \n",
       "25%    2007.000000  129825.000000  \n",
       "50%    2008.000000  162500.000000  \n",
       "75%    2009.000000  214000.000000  \n",
       "max    2010.000000  611657.000000  \n",
       "\n",
       "[8 rows x 39 columns]"
      ]
     },
     "execution_count": 264,
     "metadata": {},
     "output_type": "execute_result"
    }
   ],
   "source": [
    "df.describe()"
   ]
  },
  {
   "cell_type": "code",
   "execution_count": 265,
   "metadata": {},
   "outputs": [
    {
     "name": "stdout",
     "output_type": "stream",
     "text": [
      "<class 'pandas.core.frame.DataFrame'>\n",
      "RangeIndex: 2051 entries, 0 to 2050\n",
      "Data columns (total 82 columns):\n",
      "Id                 2051 non-null int64\n",
      "PID                2051 non-null int64\n",
      "MS SubClass        2051 non-null int64\n",
      "MS Zoning          2051 non-null object\n",
      "Lot Frontage       1721 non-null float64\n",
      "Lot Area           2051 non-null int64\n",
      "Street             2051 non-null object\n",
      "Alley              140 non-null object\n",
      "Lot Shape          2051 non-null object\n",
      "Land Contour       2051 non-null object\n",
      "Utilities          2051 non-null object\n",
      "Lot Config         2051 non-null object\n",
      "Land Slope         2051 non-null object\n",
      "Neighborhood       2051 non-null object\n",
      "Condition 1        2051 non-null object\n",
      "Condition 2        2051 non-null object\n",
      "Bldg Type          2051 non-null object\n",
      "House Style        2051 non-null object\n",
      "Overall Qual       2051 non-null int64\n",
      "Overall Cond       2051 non-null int64\n",
      "Year Built         2051 non-null int64\n",
      "Year Remod/Add     2051 non-null int64\n",
      "Roof Style         2051 non-null object\n",
      "Roof Matl          2051 non-null object\n",
      "Exterior 1st       2051 non-null object\n",
      "Exterior 2nd       2051 non-null object\n",
      "Mas Vnr Type       2029 non-null object\n",
      "Mas Vnr Area       2029 non-null float64\n",
      "Exter Qual         2051 non-null object\n",
      "Exter Cond         2051 non-null object\n",
      "Foundation         2051 non-null object\n",
      "Bsmt Qual          1996 non-null object\n",
      "Bsmt Cond          1996 non-null object\n",
      "Bsmt Exposure      1993 non-null object\n",
      "BsmtFin Type 1     1996 non-null object\n",
      "BsmtFin SF 1       2050 non-null float64\n",
      "BsmtFin Type 2     1995 non-null object\n",
      "BsmtFin SF 2       2050 non-null float64\n",
      "Bsmt Unf SF        2050 non-null float64\n",
      "Total Bsmt SF      2050 non-null float64\n",
      "Heating            2051 non-null object\n",
      "Heating QC         2051 non-null object\n",
      "Central Air        2051 non-null object\n",
      "Electrical         2051 non-null object\n",
      "1st Flr SF         2051 non-null int64\n",
      "2nd Flr SF         2051 non-null int64\n",
      "Low Qual Fin SF    2051 non-null int64\n",
      "Gr Liv Area        2051 non-null int64\n",
      "Bsmt Full Bath     2049 non-null float64\n",
      "Bsmt Half Bath     2049 non-null float64\n",
      "Full Bath          2051 non-null int64\n",
      "Half Bath          2051 non-null int64\n",
      "Bedroom AbvGr      2051 non-null int64\n",
      "Kitchen AbvGr      2051 non-null int64\n",
      "Kitchen Qual       2051 non-null object\n",
      "TotRms AbvGrd      2051 non-null int64\n",
      "Functional         2051 non-null object\n",
      "Fireplaces         2051 non-null int64\n",
      "Fireplace Qu       1051 non-null object\n",
      "Garage Type        1938 non-null object\n",
      "Garage Yr Blt      1937 non-null float64\n",
      "Garage Finish      1937 non-null object\n",
      "Garage Cars        2050 non-null float64\n",
      "Garage Area        2050 non-null float64\n",
      "Garage Qual        1937 non-null object\n",
      "Garage Cond        1937 non-null object\n",
      "Paved Drive        2051 non-null object\n",
      "Wood Deck SF       2051 non-null int64\n",
      "Open Porch SF      2051 non-null int64\n",
      "Enclosed Porch     2051 non-null int64\n",
      "3Ssn Porch         2051 non-null int64\n",
      "Screen Porch       2051 non-null int64\n",
      "Pool Area          2051 non-null int64\n",
      "Pool QC            9 non-null object\n",
      "Fence              400 non-null object\n",
      "Misc Feature       65 non-null object\n",
      "Misc Val           2051 non-null int64\n",
      "Mo Sold            2051 non-null int64\n",
      "Yr Sold            2051 non-null int64\n",
      "Sale Type          2051 non-null object\n",
      "Sale Condition     2051 non-null object\n",
      "SalePrice          2051 non-null int64\n",
      "dtypes: float64(11), int64(28), object(43)\n",
      "memory usage: 1.3+ MB\n"
     ]
    }
   ],
   "source": [
    "df.info()"
   ]
  },
  {
   "cell_type": "code",
   "execution_count": 266,
   "metadata": {},
   "outputs": [
    {
     "data": {
      "text/plain": [
       "Index(['Id', 'PID', 'MS SubClass', 'MS Zoning', 'Lot Frontage', 'Lot Area',\n",
       "       'Street', 'Alley', 'Lot Shape', 'Land Contour', 'Utilities',\n",
       "       'Lot Config', 'Land Slope', 'Neighborhood', 'Condition 1',\n",
       "       'Condition 2', 'Bldg Type', 'House Style', 'Overall Qual',\n",
       "       'Overall Cond', 'Year Built', 'Year Remod/Add', 'Roof Style',\n",
       "       'Roof Matl', 'Exterior 1st', 'Exterior 2nd', 'Mas Vnr Type',\n",
       "       'Mas Vnr Area', 'Exter Qual', 'Exter Cond', 'Foundation', 'Bsmt Qual',\n",
       "       'Bsmt Cond', 'Bsmt Exposure', 'BsmtFin Type 1', 'BsmtFin SF 1',\n",
       "       'BsmtFin Type 2', 'BsmtFin SF 2', 'Bsmt Unf SF', 'Total Bsmt SF',\n",
       "       'Heating', 'Heating QC', 'Central Air', 'Electrical', '1st Flr SF',\n",
       "       '2nd Flr SF', 'Low Qual Fin SF', 'Gr Liv Area', 'Bsmt Full Bath',\n",
       "       'Bsmt Half Bath', 'Full Bath', 'Half Bath', 'Bedroom AbvGr',\n",
       "       'Kitchen AbvGr', 'Kitchen Qual', 'TotRms AbvGrd', 'Functional',\n",
       "       'Fireplaces', 'Fireplace Qu', 'Garage Type', 'Garage Yr Blt',\n",
       "       'Garage Finish', 'Garage Cars', 'Garage Area', 'Garage Qual',\n",
       "       'Garage Cond', 'Paved Drive', 'Wood Deck SF', 'Open Porch SF',\n",
       "       'Enclosed Porch', '3Ssn Porch', 'Screen Porch', 'Pool Area', 'Pool QC',\n",
       "       'Fence', 'Misc Feature', 'Misc Val', 'Mo Sold', 'Yr Sold', 'Sale Type',\n",
       "       'Sale Condition', 'SalePrice'],\n",
       "      dtype='object')"
      ]
     },
     "execution_count": 266,
     "metadata": {},
     "output_type": "execute_result"
    }
   ],
   "source": [
    "df.columns"
   ]
  },
  {
   "cell_type": "code",
   "execution_count": 267,
   "metadata": {},
   "outputs": [
    {
     "data": {
      "text/plain": [
       "Lot Frontage       330\n",
       "Alley             1911\n",
       "Mas Vnr Type        22\n",
       "Mas Vnr Area        22\n",
       "Bsmt Qual           55\n",
       "Bsmt Cond           55\n",
       "Bsmt Exposure       58\n",
       "BsmtFin Type 1      55\n",
       "BsmtFin SF 1         1\n",
       "BsmtFin Type 2      56\n",
       "BsmtFin SF 2         1\n",
       "Bsmt Unf SF          1\n",
       "Total Bsmt SF        1\n",
       "Bsmt Full Bath       2\n",
       "Bsmt Half Bath       2\n",
       "Fireplace Qu      1000\n",
       "Garage Type        113\n",
       "Garage Yr Blt      114\n",
       "Garage Finish      114\n",
       "Garage Cars          1\n",
       "Garage Area          1\n",
       "Garage Qual        114\n",
       "Garage Cond        114\n",
       "Pool QC           2042\n",
       "Fence             1651\n",
       "Misc Feature      1986\n",
       "dtype: int64"
      ]
     },
     "execution_count": 267,
     "metadata": {},
     "output_type": "execute_result"
    }
   ],
   "source": [
    "# are there any null values and what do we need to do with them\n",
    "df.isnull().sum()[df.isnull().sum()>0]"
   ]
  },
  {
   "cell_type": "markdown",
   "metadata": {},
   "source": [
    "What to do with the nulls:\n",
    "- Alley (Type of alley access to property)\n",
    "    - has 1911 null values, meaning 'No alley access'\n",
    "    - Not expecting this to be a prominent feature due to only about 140 having alley access.\n",
    "    - Will drop from df\n",
    "    \n",
    "    \n",
    "- Lot Frontage (Linear feet of street connected to property) \n",
    "    - Only missing 330 values\n",
    "    - Will use an imputer to replace with mean or median decided by looking at histogram\n",
    "    \n",
    "    \n",
    "- Mas Vnr Type (Masonry veneer type)\n",
    "    - only 22 values listed as none\n",
    "\n",
    "\n",
    "- Mas Vnr Area (Masonry veneer area in square feet)\n",
    "    - only 22 values listed as none because if they do not have a Masonry veneer type, then it was listed as 0ft^2\n",
    "\n",
    "\n",
    "- Bsmt Qual (Height of the basement)\n",
    "    - 55 houses with No Basement\n",
    "\n",
    "\n",
    "- Bsmt Cond (General condition of the basement)\n",
    "    - 55 houses with No Basement\n",
    "\n",
    "\n",
    "- Bsmt Exposure (Walkout or garden level basement walls)\n",
    "    - 58 null values \n",
    "        - 55 houses with No Basement\n",
    "        - 3  houses with basements but no walkout\n",
    "\n",
    "\n",
    "- BsmtFin Type 1 (Quality of basement finished area) 55\n",
    "    - 55 houses with No Basement\n",
    "    - Might need to create a no basement column when use get_dummies\n",
    "\n",
    "\n",
    "- BsmtFin SF 1 (Type 1 finished square feet)\n",
    "    - 1 house with null value instead of 0.0 like 657 of the observations\n",
    "    - I will replace this null value with 0.0 because if it doesn't exist it is effectively 0sqft\n",
    "\n",
    "\n",
    "- BsmtFin Type 2 (Quality of second finished area (if present))\n",
    "    - 56 with no basement\n",
    "\n",
    "\n",
    "- BsmtFin SF 2 (Type 2 finished square feet) \n",
    "    - 1 house with null value instead of 0.0 like 657 of the observations\n",
    "    - I will replace this null value with 0.0 because if it doesn't exist it is effectively 0sqft\n",
    "\n",
    "\n",
    "- Bsmt Unf SF (Unfinished square feet of basement area)\n",
    "    - There is only one house with NA, meaning it doesn't have a basement.\n",
    "    - I can't put 0.0 due to that meaning it has a completed basement; I could potential put the mean or median\n",
    "    - However, I may not end up finding this feature particulary important though.\n",
    "\n",
    "\n",
    "- Total Bsmt SF (Total square feet of basement area)\n",
    "    - 1 house with null value instead of 0.0 \n",
    "    - I will replace this null value with 0.0 because if it doesn't exist it is effectively 0sqft\n",
    "\n",
    "\n",
    "- Bsmt Full Bath (Basement full bathrooms)\n",
    "    - 2 houses with null values\n",
    "    - I will replace this null value with 0.0 because if it doesn't exist it is effectively 0sqft\n",
    "\n",
    "\n",
    "- Bsmt Half Bath (Basement half bathrooms)\n",
    "    - 2 houses with null values\n",
    "    - I will replace this null value with 0.0 because if it doesn't exist it is effectively 0sqft\n",
    "\n",
    "\n",
    "- Fireplace Qu (Fireplace quality)\n",
    "    - 1000 houses with no fireplace\n",
    "    - this will be an additional column when I get_dummies\n",
    "\n",
    "\n",
    "- Garage Type (Garage location)\n",
    "    - 113 houses with no garage\n",
    "    - this will be an additional column when I get_dummies\n",
    "    \n",
    "\n",
    "- Garage Yr Blt (Year garage was built) \n",
    "    - 113 houses with no garage as seen above and one house with no record of year built\n",
    "    - Will drop this column due to not being able to input a value for nulls and Garage Yr Blt is probably the same as the year the house was built unless an add on was done which doesn't seem important here.\n",
    "\n",
    "\n",
    "- Garage Finish\n",
    "    - 113 houses with no garage as seen above\n",
    "    - and one house with no record of finish\n",
    "    \n",
    "\n",
    "- Garage Cars (Size of garage in car capacity)\n",
    "    - 1 house with null value I will set to 0.0\n",
    "    - There are 113 with 0.0 for this column, so this one is probably the one row with no data\n",
    "\n",
    "\n",
    "- Garage Area \n",
    "    - 1 house with null value I will set to 0.0\n",
    "    - There are 113 with 0.0 for this column, so this one is probably the one row with no data\n",
    "\n",
    "\n",
    "- Garage Qual (Garage quality)\n",
    "    - 113 houses with no garage as seen above\n",
    "    - and one house with no record\n",
    "\n",
    "\n",
    "- Garage Cond (Garage condition)\n",
    "    - 113 houses with no garage as seen above\n",
    "    - and one house with no record\n",
    "    \n",
    "\n",
    "- Pool QC (Pool quality)\n",
    "    - 2042 houses with no pool.\n",
    "    - Will drop column since it is not a prominent feature for most houses in this area\n",
    "\n",
    "\n",
    "- Fence (Fence quality)\n",
    "    - 1651 houses with no fence\n",
    "\n",
    "\n",
    "- Misc Feature (Miscellaneous feature not covered in other categories)\n",
    "    - 1986 houses with no Misc Features\n",
    "    - will drop for similar line of thinking as lack of pools\n",
    "\n"
   ]
  },
  {
   "cell_type": "markdown",
   "metadata": {},
   "source": [
    "## Dealing with NaN values\n",
    "Some NaN values need to be changed to string for categorization with get_dummies\n",
    "Other NaN values need to be converted to 0.0 to signify that it doesn't exist for that house"
   ]
  },
  {
   "cell_type": "code",
   "execution_count": 268,
   "metadata": {},
   "outputs": [
    {
     "data": {
      "text/plain": [
       "Lot Frontage      330\n",
       "Alley            1911\n",
       "Bsmt Unf SF         1\n",
       "Garage Yr Blt     114\n",
       "Pool QC          2042\n",
       "Fence            1651\n",
       "Misc Feature     1986\n",
       "dtype: int64"
      ]
     },
     "execution_count": 268,
     "metadata": {},
     "output_type": "execute_result"
    }
   ],
   "source": [
    "df.fillna(value={'Mas Vnr Type': 'None',\n",
    "                 'Bsmt Qual': 'NA',\n",
    "                 'Bsmt Cond': 'NA',\n",
    "                 'Bsmt Exposure': 'NA',\n",
    "                 'BsmtFin Type 1': 'NA',\n",
    "                 'BsmtFin Type 2': 'NA',\n",
    "                 'Fireplace Qu': 'NA',\n",
    "                 'Garage Type': 'NA',\n",
    "                 'Garage Finish': 'NA',\n",
    "                 'Garage Qual': 'NA',\n",
    "                 'Garage Cond': 'NA',\n",
    "                 'Paved Drive': 'NA',\n",
    "                 'Mas Vnr Area': 0.0,\n",
    "                 'BsmtFin SF 1': 0.0,\n",
    "                 'BsmtFin SF 2': 0.0,\n",
    "                 'Total Bsmt SF': 0.0,\n",
    "                 'Bsmt Full Bath': 0.0,\n",
    "                 'Bsmt Half Bath': 0.0,\n",
    "                 'Garage Cars': 0.0, \n",
    "                 'Garage Area': 0.0\n",
    "                }, axis=0, inplace=True)\n",
    "\n",
    "df.isnull().sum()[df.isnull().sum()>0]\n",
    "# Still have some NaN values to deal with"
   ]
  },
  {
   "cell_type": "markdown",
   "metadata": {},
   "source": [
    "---\n",
    "Lot Frontage (Linear feet of street connected to property): Using an imputer to replace with mean or median"
   ]
  },
  {
   "cell_type": "code",
   "execution_count": 269,
   "metadata": {
    "collapsed": true
   },
   "outputs": [],
   "source": [
    "import numpy as np\n",
    "from sklearn.preprocessing import Imputer\n",
    "\n",
    "import matplotlib.pyplot as plt\n",
    "%matplotlib inline\n",
    "%config InlineBackend.figure_format = 'retina'"
   ]
  },
  {
   "cell_type": "code",
   "execution_count": 270,
   "metadata": {},
   "outputs": [
    {
     "name": "stdout",
     "output_type": "stream",
     "text": [
      "mean:  69.05520046484602\n",
      "median:  68.0\n"
     ]
    },
    {
     "data": {
      "text/plain": [
       "<matplotlib.axes._subplots.AxesSubplot at 0x1229e4cc0>"
      ]
     },
     "execution_count": 270,
     "metadata": {},
     "output_type": "execute_result"
    },
    {
     "data": {
      "image/png": "[encoded data removed]",
      "text/plain": [
       "<matplotlib.figure.Figure at 0x120a516d8>"
      ]
     },
     "metadata": {
      "image/png": {
       "height": 248,
       "width": 372
      }
     },
     "output_type": "display_data"
    }
   ],
   "source": [
    "print('mean: ', df['Lot Frontage'].mean())\n",
    "print('median: ', df['Lot Frontage'].median())\n",
    "\n",
    "df['Lot Frontage'].hist(bins=100)"
   ]
  },
  {
   "cell_type": "code",
   "execution_count": 271,
   "metadata": {
    "collapsed": true
   },
   "outputs": [],
   "source": [
    "imp = Imputer(strategy='median')"
   ]
  },
  {
   "cell_type": "code",
   "execution_count": 272,
   "metadata": {
    "collapsed": true
   },
   "outputs": [],
   "source": [
    "df['Lot Frontage'] = pd.DataFrame(imp.fit_transform(df[['Lot Frontage']]))"
   ]
  },
  {
   "cell_type": "code",
   "execution_count": 273,
   "metadata": {},
   "outputs": [
    {
     "data": {
      "text/plain": [
       "array([], dtype=int64)"
      ]
     },
     "execution_count": 273,
     "metadata": {},
     "output_type": "execute_result"
    }
   ],
   "source": [
    "df['Lot Frontage'].isnull().sum()[df['Lot Frontage'].isnull().sum()>0]\n",
    "# Showing that there are no more null values in this column"
   ]
  },
  {
   "cell_type": "code",
   "execution_count": 274,
   "metadata": {},
   "outputs": [
    {
     "data": {
      "text/plain": [
       "68.0     358\n",
       "60.0     179\n",
       "70.0      96\n",
       "80.0      94\n",
       "50.0      90\n",
       "65.0      71\n",
       "75.0      68\n",
       "85.0      52\n",
       "63.0      38\n",
       "78.0      33\n",
       "24.0      33\n",
       "21.0      32\n",
       "90.0      31\n",
       "74.0      31\n",
       "64.0      31\n",
       "72.0      30\n",
       "62.0      28\n",
       "73.0      25\n",
       "100.0     23\n",
       "82.0      21\n",
       "52.0      20\n",
       "57.0      20\n",
       "43.0      20\n",
       "66.0      19\n",
       "79.0      19\n",
       "53.0      18\n",
       "59.0      18\n",
       "67.0      18\n",
       "88.0      16\n",
       "51.0      16\n",
       "        ... \n",
       "113.0      2\n",
       "313.0      2\n",
       "130.0      2\n",
       "101.0      2\n",
       "46.0       2\n",
       "33.0       1\n",
       "141.0      1\n",
       "115.0      1\n",
       "121.0      1\n",
       "174.0      1\n",
       "117.0      1\n",
       "195.0      1\n",
       "150.0      1\n",
       "118.0      1\n",
       "160.0      1\n",
       "123.0      1\n",
       "137.0      1\n",
       "116.0      1\n",
       "200.0      1\n",
       "25.0       1\n",
       "144.0      1\n",
       "124.0      1\n",
       "138.0      1\n",
       "111.0      1\n",
       "122.0      1\n",
       "22.0       1\n",
       "155.0      1\n",
       "153.0      1\n",
       "119.0      1\n",
       "135.0      1\n",
       "Name: Lot Frontage, Length: 118, dtype: int64"
      ]
     },
     "execution_count": 274,
     "metadata": {},
     "output_type": "execute_result"
    }
   ],
   "source": [
    "df['Lot Frontage'].value_counts()\n",
    "# Showing that there are a lot of values that equal the median\n",
    "# This suggests that the imputation was sucessful"
   ]
  },
  {
   "cell_type": "markdown",
   "metadata": {},
   "source": [
    "---\n",
    "Dropping Unecessary Columns\n",
    "- ID column because it does not influence price\n",
    "- Ally because not expecting this to be a prominent feature due to only about 140 having alley access.\n",
    "- BsmtUnfSF (Unfinished square feet of basement area) becasue not all houses have basements, and you can't put 0 because that would mean that the basement was completed.\n",
    "- Garage Yr Blt due to not being able to input a value for nulls and Garage Yr Blt is probably the same as the year the house was built unless an add on was done which doesn't seem important here.\n",
    "- Pool QC due to most houses not having this feature\n",
    "- Fence  due to most houses not having this feature\n",
    "- Misc Feature due to most houses not having this feature"
   ]
  },
  {
   "cell_type": "code",
   "execution_count": 275,
   "metadata": {
    "collapsed": true
   },
   "outputs": [],
   "source": [
    "df.drop(['Alley',\n",
    "         'Id',\n",
    "         'PID',\n",
    "         'Bsmt Unf SF',\n",
    "         'Garage Yr Blt',\n",
    "         'Pool QC',\n",
    "         'Fence', \n",
    "         'Misc Feature'\n",
    "        ], axis=1, inplace=True)"
   ]
  },
  {
   "cell_type": "markdown",
   "metadata": {},
   "source": [
    "---\n",
    "## Get Dummies\n"
   ]
  },
  {
   "cell_type": "code",
   "execution_count": 276,
   "metadata": {},
   "outputs": [
    {
     "data": {
      "text/plain": [
       "(2051, 74)"
      ]
     },
     "execution_count": 276,
     "metadata": {},
     "output_type": "execute_result"
    }
   ],
   "source": [
    "df.shape"
   ]
  },
  {
   "cell_type": "code",
   "execution_count": 277,
   "metadata": {
    "collapsed": true
   },
   "outputs": [],
   "source": [
    "df = pd.get_dummies(df, prefix=['MasVnrType', \n",
    "                                           'BsmtQual', \n",
    "                                           'BsmtCond', \n",
    "                                           'BsmtExposure',\n",
    "                                           'BsmtFinType1',\n",
    "                                           'BsmtFinType2',\n",
    "                                           'FireplaceQu',\n",
    "                                           'GarageType',\n",
    "                                           'GarageFinish',\n",
    "                                           'GarageQual',\n",
    "                                           'GarageCond',\n",
    "                                           'PavedDrive'\n",
    "                                          ], \n",
    "                               columns=['Mas Vnr Type', \n",
    "                                        'Bsmt Qual', \n",
    "                                        'Bsmt Cond', \n",
    "                                        'Bsmt Exposure',\n",
    "                                        'BsmtFin Type 1',\n",
    "                                        'BsmtFin Type 2',\n",
    "                                        'Fireplace Qu',\n",
    "                                        'Garage Type',\n",
    "                                        'Garage Finish',\n",
    "                                        'Garage Qual',\n",
    "                                        'Garage Cond',\n",
    "                                        'Paved Drive'\n",
    "                                       ])"
   ]
  },
  {
   "cell_type": "code",
   "execution_count": 278,
   "metadata": {},
   "outputs": [
    {
     "data": {
      "text/plain": [
       "(2051, 129)"
      ]
     },
     "execution_count": 278,
     "metadata": {},
     "output_type": "execute_result"
    }
   ],
   "source": [
    "# Shows number of columns has increased\n",
    "df.shape"
   ]
  },
  {
   "cell_type": "code",
   "execution_count": 279,
   "metadata": {},
   "outputs": [
    {
     "data": {
      "text/plain": [
       "Series([], dtype: int64)"
      ]
     },
     "execution_count": 279,
     "metadata": {},
     "output_type": "execute_result"
    }
   ],
   "source": [
    "df.isnull().sum()[df.isnull().sum()>0]\n",
    "# All NaNs taken care of"
   ]
  },
  {
   "cell_type": "markdown",
   "metadata": {},
   "source": [
    "---\n",
    "Use get_dummies again to change objects/strings to floats"
   ]
  },
  {
   "cell_type": "code",
   "execution_count": 280,
   "metadata": {},
   "outputs": [
    {
     "data": {
      "text/plain": [
       "['MS Zoning',\n",
       " 'Street',\n",
       " 'Lot Shape',\n",
       " 'Land Contour',\n",
       " 'Utilities',\n",
       " 'Lot Config',\n",
       " 'Land Slope',\n",
       " 'Neighborhood',\n",
       " 'Condition 1',\n",
       " 'Condition 2',\n",
       " 'Bldg Type',\n",
       " 'House Style',\n",
       " 'Roof Style',\n",
       " 'Roof Matl',\n",
       " 'Exterior 1st',\n",
       " 'Exterior 2nd',\n",
       " 'Exter Qual',\n",
       " 'Exter Cond',\n",
       " 'Foundation',\n",
       " 'Heating',\n",
       " 'Heating QC',\n",
       " 'Central Air',\n",
       " 'Electrical',\n",
       " 'Kitchen Qual',\n",
       " 'Functional',\n",
       " 'Sale Type',\n",
       " 'Sale Condition']"
      ]
     },
     "execution_count": 280,
     "metadata": {},
     "output_type": "execute_result"
    }
   ],
   "source": [
    "list(df.loc[:, df.dtypes == object])"
   ]
  },
  {
   "cell_type": "code",
   "execution_count": 281,
   "metadata": {
    "collapsed": true
   },
   "outputs": [],
   "source": [
    "df = pd.get_dummies(df, prefix=['MSZoning',\n",
    " 'Street',\n",
    " 'LotShape',\n",
    " 'LandContour',\n",
    " 'Utilities',\n",
    " 'LotConfig',\n",
    " 'LandSlope',\n",
    " 'Neighborhood',\n",
    " 'Condition1',\n",
    " 'Condition2',\n",
    " 'BldgType',\n",
    " 'HouseStyle',\n",
    " 'RoofStyle',\n",
    " 'RoofMatl',\n",
    " 'Exterior1st',\n",
    " 'Exterior2nd',\n",
    " 'ExterQual',\n",
    " 'ExterCond',\n",
    " 'Foundation',\n",
    " 'Heating',\n",
    " 'HeatingQC',\n",
    " 'CentralAir',\n",
    " 'Electrical',\n",
    " 'KitchenQual',\n",
    " 'Functional',\n",
    " 'SaleType',\n",
    " 'SaleCondition'],\n",
    "                   columns=['MS Zoning',\n",
    " 'Street',\n",
    " 'Lot Shape',\n",
    " 'Land Contour',\n",
    " 'Utilities',\n",
    " 'Lot Config',\n",
    " 'Land Slope',\n",
    " 'Neighborhood',\n",
    " 'Condition 1',\n",
    " 'Condition 2',\n",
    " 'Bldg Type',\n",
    " 'House Style',\n",
    " 'Roof Style',\n",
    " 'Roof Matl',\n",
    " 'Exterior 1st',\n",
    " 'Exterior 2nd',\n",
    " 'Exter Qual',\n",
    " 'Exter Cond',\n",
    " 'Foundation',\n",
    " 'Heating',\n",
    " 'Heating QC',\n",
    " 'Central Air',\n",
    " 'Electrical',\n",
    " 'Kitchen Qual',\n",
    " 'Functional',\n",
    " 'Sale Type',\n",
    " 'Sale Condition'])"
   ]
  },
  {
   "cell_type": "code",
   "execution_count": 282,
   "metadata": {},
   "outputs": [
    {
     "data": {
      "text/plain": [
       "(2051, 289)"
      ]
     },
     "execution_count": 282,
     "metadata": {},
     "output_type": "execute_result"
    }
   ],
   "source": [
    "df.shape"
   ]
  },
  {
   "cell_type": "markdown",
   "metadata": {},
   "source": [
    "# Feature Selection with Pearson's Corr Coeff"
   ]
  },
  {
   "cell_type": "code",
   "execution_count": 283,
   "metadata": {},
   "outputs": [
    {
     "data": {
      "text/plain": [
       "16"
      ]
     },
     "execution_count": 283,
     "metadata": {},
     "output_type": "execute_result"
    }
   ],
   "source": [
    "target_corr = df.corr().abs()[['SalePrice']].sort_values(by=['SalePrice'], ascending=False)\n",
    "target_corr = target_corr.loc[(target_corr['SalePrice'] > 0.50) & (target_corr['SalePrice'] < 1)]\n",
    "target_corr_list = list(target_corr.index)\n",
    "len(target_corr_list)"
   ]
  },
  {
   "cell_type": "code",
   "execution_count": 284,
   "metadata": {
    "collapsed": true
   },
   "outputs": [],
   "source": [
    "# Creating my X and y\n",
    "\n",
    "## This is the logic behind what I did below:\n",
    "# list_1=[\"a\", \"b\", \"c\", \"d\", \"e\"]\n",
    "# list_2=[\"a\", \"f\", \"c\", \"m\"]\n",
    "# list(set(list_2).difference(list_1))\n",
    "## ['m', 'f']\n",
    "\n",
    "X = df.drop(list(set(list(df.columns)).difference(target_corr_list)), axis=1)\n",
    "y = df['SalePrice']"
   ]
  },
  {
   "cell_type": "code",
   "execution_count": 285,
   "metadata": {},
   "outputs": [
    {
     "data": {
      "text/html": [
       "<div>\n",
       "<style>\n",
       "    .dataframe thead tr:only-child th {\n",
       "        text-align: right;\n",
       "    }\n",
       "\n",
       "    .dataframe thead th {\n",
       "        text-align: left;\n",
       "    }\n",
       "\n",
       "    .dataframe tbody tr th {\n",
       "        vertical-align: top;\n",
       "    }\n",
       "</style>\n",
       "<table border=\"1\" class=\"dataframe\">\n",
       "  <thead>\n",
       "    <tr style=\"text-align: right;\">\n",
       "      <th></th>\n",
       "      <th></th>\n",
       "      <th>0</th>\n",
       "    </tr>\n",
       "  </thead>\n",
       "  <tbody>\n",
       "    <tr>\n",
       "      <th>Garage Cars</th>\n",
       "      <th>Garage Area</th>\n",
       "      <td>0.893442</td>\n",
       "    </tr>\n",
       "    <tr>\n",
       "      <th>Garage Area</th>\n",
       "      <th>Garage Cars</th>\n",
       "      <td>0.893442</td>\n",
       "    </tr>\n",
       "    <tr>\n",
       "      <th>TotRms AbvGrd</th>\n",
       "      <th>Gr Liv Area</th>\n",
       "      <td>0.813333</td>\n",
       "    </tr>\n",
       "    <tr>\n",
       "      <th>Gr Liv Area</th>\n",
       "      <th>TotRms AbvGrd</th>\n",
       "      <td>0.813333</td>\n",
       "    </tr>\n",
       "    <tr>\n",
       "      <th>1st Flr SF</th>\n",
       "      <th>Total Bsmt SF</th>\n",
       "      <td>0.808351</td>\n",
       "    </tr>\n",
       "    <tr>\n",
       "      <th>Total Bsmt SF</th>\n",
       "      <th>1st Flr SF</th>\n",
       "      <td>0.808351</td>\n",
       "    </tr>\n",
       "  </tbody>\n",
       "</table>\n",
       "</div>"
      ],
      "text/plain": [
       "                                    0\n",
       "Garage Cars   Garage Area    0.893442\n",
       "Garage Area   Garage Cars    0.893442\n",
       "TotRms AbvGrd Gr Liv Area    0.813333\n",
       "Gr Liv Area   TotRms AbvGrd  0.813333\n",
       "1st Flr SF    Total Bsmt SF  0.808351\n",
       "Total Bsmt SF 1st Flr SF     0.808351"
      ]
     },
     "execution_count": 285,
     "metadata": {},
     "output_type": "execute_result"
    }
   ],
   "source": [
    "# Seeing if any of the features used for my X are co-coorelated\n",
    "\n",
    "c = X.corr().abs()\n",
    "s = c.unstack()\n",
    "so = s.sort_values(ascending=False)\n",
    "so = pd.DataFrame(so)\n",
    "\n",
    "so.loc[(so[0] > 0.79) & (so[0] != 1.0)]\n",
    "#print(pd.DataFrame(so))"
   ]
  },
  {
   "cell_type": "code",
   "execution_count": 286,
   "metadata": {},
   "outputs": [
    {
     "data": {
      "text/plain": [
       "['Overall Qual',\n",
       " 'Year Built',\n",
       " 'Year Remod/Add',\n",
       " 'Mas Vnr Area',\n",
       " 'Total Bsmt SF',\n",
       " '1st Flr SF',\n",
       " 'Gr Liv Area',\n",
       " 'Full Bath',\n",
       " 'TotRms AbvGrd',\n",
       " 'Garage Cars',\n",
       " 'Garage Area',\n",
       " 'BsmtQual_Ex',\n",
       " 'ExterQual_TA',\n",
       " 'Foundation_PConc',\n",
       " 'KitchenQual_Ex',\n",
       " 'KitchenQual_TA']"
      ]
     },
     "execution_count": 286,
     "metadata": {},
     "output_type": "execute_result"
    }
   ],
   "source": [
    "list(X.columns)\n",
    "\n",
    "# There are co-correlated features in our X:\n",
    "# - 'Total Bsmt SF', '1st Flr SF'\n",
    "# - 'Gr Liv Area', 'TotRms AbvGrd'\n",
    "# - 'Garage Cars', 'Garage Area'"
   ]
  },
  {
   "cell_type": "code",
   "execution_count": 287,
   "metadata": {},
   "outputs": [
    {
     "data": {
      "text/html": [
       "<div>\n",
       "<style>\n",
       "    .dataframe thead tr:only-child th {\n",
       "        text-align: right;\n",
       "    }\n",
       "\n",
       "    .dataframe thead th {\n",
       "        text-align: left;\n",
       "    }\n",
       "\n",
       "    .dataframe tbody tr th {\n",
       "        vertical-align: top;\n",
       "    }\n",
       "</style>\n",
       "<table border=\"1\" class=\"dataframe\">\n",
       "  <thead>\n",
       "    <tr style=\"text-align: right;\">\n",
       "      <th></th>\n",
       "      <th>SalePrice</th>\n",
       "    </tr>\n",
       "  </thead>\n",
       "  <tbody>\n",
       "    <tr>\n",
       "      <th>Overall Qual</th>\n",
       "      <td>0.800207</td>\n",
       "    </tr>\n",
       "    <tr>\n",
       "      <th>Gr Liv Area</th>\n",
       "      <td>0.697038</td>\n",
       "    </tr>\n",
       "    <tr>\n",
       "      <th>Garage Area</th>\n",
       "      <td>0.649897</td>\n",
       "    </tr>\n",
       "    <tr>\n",
       "      <th>Garage Cars</th>\n",
       "      <td>0.647781</td>\n",
       "    </tr>\n",
       "    <tr>\n",
       "      <th>Total Bsmt SF</th>\n",
       "      <td>0.629303</td>\n",
       "    </tr>\n",
       "    <tr>\n",
       "      <th>1st Flr SF</th>\n",
       "      <td>0.618486</td>\n",
       "    </tr>\n",
       "    <tr>\n",
       "      <th>ExterQual_TA</th>\n",
       "      <td>0.600362</td>\n",
       "    </tr>\n",
       "    <tr>\n",
       "      <th>BsmtQual_Ex</th>\n",
       "      <td>0.586497</td>\n",
       "    </tr>\n",
       "    <tr>\n",
       "      <th>Year Built</th>\n",
       "      <td>0.571849</td>\n",
       "    </tr>\n",
       "    <tr>\n",
       "      <th>KitchenQual_Ex</th>\n",
       "      <td>0.551284</td>\n",
       "    </tr>\n",
       "    <tr>\n",
       "      <th>Year Remod/Add</th>\n",
       "      <td>0.550370</td>\n",
       "    </tr>\n",
       "    <tr>\n",
       "      <th>KitchenQual_TA</th>\n",
       "      <td>0.540860</td>\n",
       "    </tr>\n",
       "    <tr>\n",
       "      <th>Full Bath</th>\n",
       "      <td>0.537969</td>\n",
       "    </tr>\n",
       "    <tr>\n",
       "      <th>Foundation_PConc</th>\n",
       "      <td>0.529047</td>\n",
       "    </tr>\n",
       "    <tr>\n",
       "      <th>TotRms AbvGrd</th>\n",
       "      <td>0.504014</td>\n",
       "    </tr>\n",
       "    <tr>\n",
       "      <th>Mas Vnr Area</th>\n",
       "      <td>0.503579</td>\n",
       "    </tr>\n",
       "  </tbody>\n",
       "</table>\n",
       "</div>"
      ],
      "text/plain": [
       "                  SalePrice\n",
       "Overall Qual       0.800207\n",
       "Gr Liv Area        0.697038\n",
       "Garage Area        0.649897\n",
       "Garage Cars        0.647781\n",
       "Total Bsmt SF      0.629303\n",
       "1st Flr SF         0.618486\n",
       "ExterQual_TA       0.600362\n",
       "BsmtQual_Ex        0.586497\n",
       "Year Built         0.571849\n",
       "KitchenQual_Ex     0.551284\n",
       "Year Remod/Add     0.550370\n",
       "KitchenQual_TA     0.540860\n",
       "Full Bath          0.537969\n",
       "Foundation_PConc   0.529047\n",
       "TotRms AbvGrd      0.504014\n",
       "Mas Vnr Area       0.503579"
      ]
     },
     "execution_count": 287,
     "metadata": {},
     "output_type": "execute_result"
    }
   ],
   "source": [
    "# See which of the co-correlated features are more correlated with y, and drop the least co-correlated of the two of each pair\n",
    "\n",
    "target_corr\n",
    "\n",
    "# Drop: 1st Flr SF, TotRms AbvGrd, Garage Cars"
   ]
  },
  {
   "cell_type": "code",
   "execution_count": 288,
   "metadata": {
    "collapsed": true
   },
   "outputs": [],
   "source": [
    "X.drop(['1st Flr SF', 'TotRms AbvGrd', 'Garage Cars'], axis=1, inplace=True)"
   ]
  },
  {
   "cell_type": "code",
   "execution_count": 289,
   "metadata": {
    "scrolled": true
   },
   "outputs": [
    {
     "data": {
      "text/plain": [
       "Index(['Overall Qual', 'Year Built', 'Year Remod/Add', 'Mas Vnr Area',\n",
       "       'Total Bsmt SF', 'Gr Liv Area', 'Full Bath', 'Garage Area',\n",
       "       'BsmtQual_Ex', 'ExterQual_TA', 'Foundation_PConc', 'KitchenQual_Ex',\n",
       "       'KitchenQual_TA'],\n",
       "      dtype='object')"
      ]
     },
     "execution_count": 289,
     "metadata": {},
     "output_type": "execute_result"
    }
   ],
   "source": [
    "X.columns"
   ]
  },
  {
   "cell_type": "markdown",
   "metadata": {},
   "source": [
    "---\n",
    "## Preprocessing"
   ]
  },
  {
   "cell_type": "markdown",
   "metadata": {},
   "source": [
    "train_test_split"
   ]
  },
  {
   "cell_type": "code",
   "execution_count": 290,
   "metadata": {
    "collapsed": true
   },
   "outputs": [],
   "source": [
    "from sklearn.model_selection import train_test_split"
   ]
  },
  {
   "cell_type": "code",
   "execution_count": 291,
   "metadata": {
    "collapsed": true
   },
   "outputs": [],
   "source": [
    "X_train, X_test, y_train, y_test = train_test_split(X, y, random_state=42, test_size=0.3)"
   ]
  },
  {
   "cell_type": "markdown",
   "metadata": {},
   "source": [
    "SrandardScalar"
   ]
  },
  {
   "cell_type": "code",
   "execution_count": 292,
   "metadata": {
    "collapsed": true
   },
   "outputs": [],
   "source": [
    "from sklearn.preprocessing import StandardScaler"
   ]
  },
  {
   "cell_type": "code",
   "execution_count": 293,
   "metadata": {
    "collapsed": true
   },
   "outputs": [],
   "source": [
    "sc = StandardScaler()\n",
    "Xsc_train = sc.fit_transform(X_train)"
   ]
  },
  {
   "cell_type": "markdown",
   "metadata": {},
   "source": [
    "---\n",
    "# Modeling"
   ]
  },
  {
   "cell_type": "markdown",
   "metadata": {},
   "source": [
    "---\n",
    "Linear Regression\n",
    "- LassoCV\n",
    "- RidgeCV\n",
    "- Elastic Net"
   ]
  },
  {
   "cell_type": "code",
   "execution_count": 294,
   "metadata": {
    "collapsed": true
   },
   "outputs": [],
   "source": [
    "from sklearn.linear_model import Ridge, Lasso, ElasticNet, LinearRegression, RidgeCV, LassoCV, ElasticNetCV\n",
    "from sklearn.model_selection import cross_val_score"
   ]
  },
  {
   "cell_type": "markdown",
   "metadata": {},
   "source": [
    "---\n",
    "- Linear regression"
   ]
  },
  {
   "cell_type": "code",
   "execution_count": 295,
   "metadata": {},
   "outputs": [
    {
     "name": "stdout",
     "output_type": "stream",
     "text": [
      "Feature Weights: [ 20809.84837344   7107.4473014    4864.2127626    4476.32243354\n",
      "   7439.41833669  21804.41210139   -698.08081462   8525.41806459\n",
      "   9781.94040208  -2429.84569179    156.9839429   10558.62090495\n",
      "  -3096.15071933]\n",
      "R^2: 0.877214772888\n"
     ]
    }
   ],
   "source": [
    "lm = LinearRegression()\n",
    "\n",
    "# fit the model, create predictions array and score variable\n",
    "lm_model = lm.fit(Xsc_train, y_train)\n",
    "predictions_lm = lm_model.predict(sc.transform(X_test))\n",
    "score_lm = lm_model.score(sc.transform(X_test), y_test)\n",
    "\n",
    "print('Feature Weights:', lm.coef_)\n",
    "print('R^2:', score_lm)"
   ]
  },
  {
   "cell_type": "code",
   "execution_count": 296,
   "metadata": {},
   "outputs": [
    {
     "name": "stdout",
     "output_type": "stream",
     "text": [
      "('Overall Qual', 20809.848373441546)\n",
      "('Year Built', 7107.4473013958523)\n",
      "('Year Remod/Add', 4864.2127625954545)\n",
      "('Mas Vnr Area', 4476.3224335353207)\n",
      "('Total Bsmt SF', 7439.4183366931402)\n",
      "('Gr Liv Area', 21804.412101386046)\n",
      "('Full Bath', -698.08081462292762)\n",
      "('Garage Area', 8525.4180645945034)\n",
      "('BsmtQual_Ex', 9781.9404020845577)\n",
      "('ExterQual_TA', -2429.8456917896665)\n",
      "('Foundation_PConc', 156.98394290410397)\n",
      "('KitchenQual_Ex', 10558.620904951198)\n",
      "('KitchenQual_TA', -3096.1507193264692)\n"
     ]
    }
   ],
   "source": [
    "for feature in zip (X_train, lm.coef_):\n",
    "    print(feature)"
   ]
  },
  {
   "cell_type": "markdown",
   "metadata": {},
   "source": [
    "May want to consider dropping 'Full Bath' and 'Foundation_PConc' due to their weights being close to zero relative to the other features."
   ]
  },
  {
   "cell_type": "markdown",
   "metadata": {},
   "source": [
    "---\n",
    "- LassoCV"
   ]
  },
  {
   "cell_type": "code",
   "execution_count": 297,
   "metadata": {},
   "outputs": [
    {
     "name": "stdout",
     "output_type": "stream",
     "text": [
      "Alpha Selected: 1020.49795918\n",
      "Feature Weights: [ 21402.8954543    6635.22885086   4421.11236572   4099.49246282\n",
      "   7205.4347105   21068.08954352      0.           8363.05671321\n",
      "   9523.88521398  -2342.40694061      0.          10177.00558555\n",
      "  -2749.01155624]\n",
      "R^2: 0.875167832419\n"
     ]
    }
   ],
   "source": [
    "a_lcv = np.linspace(0.1, 10000, num=50)\n",
    "\n",
    "lcv = LassoCV(alphas=a_lcv, fit_intercept=True, cv=10, random_state=543)\n",
    "\n",
    "# fit the model, create predictions array and score variable\n",
    "lcv.fit(Xsc_train, y_train)\n",
    "predictions_lcv = lcv.predict(sc.transform(X_test))\n",
    "score_lcv = lcv.score(sc.transform(X_test), y_test)\n",
    "\n",
    "print('Alpha Selected:', lcv.alpha_)\n",
    "print('Feature Weights:', lcv.coef_) # You can see that it zeroed out two features\n",
    "print('R^2:',score_lcv)"
   ]
  },
  {
   "cell_type": "code",
   "execution_count": 298,
   "metadata": {},
   "outputs": [
    {
     "name": "stdout",
     "output_type": "stream",
     "text": [
      "('Overall Qual', 21402.895454304336)\n",
      "('Year Built', 6635.2288508614183)\n",
      "('Year Remod/Add', 4421.1123657198295)\n",
      "('Mas Vnr Area', 4099.4924628228955)\n",
      "('Total Bsmt SF', 7205.4347104965964)\n",
      "('Gr Liv Area', 21068.08954352187)\n",
      "('Full Bath', 0.0)\n",
      "('Garage Area', 8363.0567132126398)\n",
      "('BsmtQual_Ex', 9523.8852139756782)\n",
      "('ExterQual_TA', -2342.4069406102299)\n",
      "('Foundation_PConc', 0.0)\n",
      "('KitchenQual_Ex', 10177.005585546622)\n",
      "('KitchenQual_TA', -2749.0115562409255)\n"
     ]
    }
   ],
   "source": [
    "for feature in zip(X_train, lcv.coef_):\n",
    "    print(feature)"
   ]
  },
  {
   "cell_type": "markdown",
   "metadata": {},
   "source": [
    "May want to consider dropping 'Full Bath' and 'Foundation_PConc' because they were zeroed out."
   ]
  },
  {
   "cell_type": "markdown",
   "metadata": {},
   "source": [
    "---\n",
    "- RidgeCV"
   ]
  },
  {
   "cell_type": "code",
   "execution_count": 299,
   "metadata": {},
   "outputs": [
    {
     "name": "stdout",
     "output_type": "stream",
     "text": [
      "Alpha Selected: 138.949549437\n",
      "Feature Weights: [ 18193.39605795   5849.79760131   4935.90627835   5324.14567066\n",
      "   8068.80343978  18940.48340586   1408.65299857   8900.00922116\n",
      "   9605.96013986  -3245.2811863    1120.07171998  10474.97833042\n",
      "  -3461.80837863]\n",
      "R^2: 0.874269851188\n"
     ]
    }
   ],
   "source": [
    "a_rcv = np.logspace(-2, 5, num=50)\n",
    "\n",
    "rcv = RidgeCV(a_rcv, fit_intercept=True, cv=10)\n",
    "\n",
    "# fit the model, create predictions array and score variable\n",
    "rcv.fit(Xsc_train, y_train)\n",
    "predictions_rcv = rcv.predict(sc.transform(X_test))\n",
    "score_rcv = rcv.score(sc.transform(X_test), y_test)\n",
    "\n",
    "print('Alpha Selected:', rcv.alpha_)\n",
    "print('Feature Weights:', rcv.coef_)\n",
    "print('R^2:',score_rcv)"
   ]
  },
  {
   "cell_type": "markdown",
   "metadata": {},
   "source": [
    "May want to consider dropping 'Full Bath' and 'Foundation_PConc' due to their weights being close to zero relative to the other features."
   ]
  },
  {
   "cell_type": "markdown",
   "metadata": {},
   "source": [
    "---\n",
    "- Elastic Net CV"
   ]
  },
  {
   "cell_type": "code",
   "execution_count": 300,
   "metadata": {
    "scrolled": true
   },
   "outputs": [
    {
     "name": "stdout",
     "output_type": "stream",
     "text": [
      "Params: {'alphas': array([  1.00000000e-03,   2.05061224e-01,   4.09122449e-01,\n",
      "         6.13183673e-01,   8.17244898e-01,   1.02130612e+00,\n",
      "         1.22536735e+00,   1.42942857e+00,   1.63348980e+00,\n",
      "         1.83755102e+00,   2.04161224e+00,   2.24567347e+00,\n",
      "         2.44973469e+00,   2.65379592e+00,   2.85785714e+00,\n",
      "         3.06191837e+00,   3.26597959e+00,   3.47004082e+00,\n",
      "         3.67410204e+00,   3.87816327e+00,   4.08222449e+00,\n",
      "         4.28628571e+00,   4.49034694e+00,   4.69440816e+00,\n",
      "         4.89846939e+00,   5.10253061e+00,   5.30659184e+00,\n",
      "         5.51065306e+00,   5.71471429e+00,   5.91877551e+00,\n",
      "         6.12283673e+00,   6.32689796e+00,   6.53095918e+00,\n",
      "         6.73502041e+00,   6.93908163e+00,   7.14314286e+00,\n",
      "         7.34720408e+00,   7.55126531e+00,   7.75532653e+00,\n",
      "         7.95938776e+00,   8.16344898e+00,   8.36751020e+00,\n",
      "         8.57157143e+00,   8.77563265e+00,   8.97969388e+00,\n",
      "         9.18375510e+00,   9.38781633e+00,   9.59187755e+00,\n",
      "         9.79593878e+00,   1.00000000e+01]), 'copy_X': True, 'cv': 10, 'eps': 0.001, 'fit_intercept': True, 'l1_ratio': array([ 0.001     ,  0.02138776,  0.04177551,  0.06216327,  0.08255102,\n",
      "        0.10293878,  0.12332653,  0.14371429,  0.16410204,  0.1844898 ,\n",
      "        0.20487755,  0.22526531,  0.24565306,  0.26604082,  0.28642857,\n",
      "        0.30681633,  0.32720408,  0.34759184,  0.36797959,  0.38836735,\n",
      "        0.4087551 ,  0.42914286,  0.44953061,  0.46991837,  0.49030612,\n",
      "        0.51069388,  0.53108163,  0.55146939,  0.57185714,  0.5922449 ,\n",
      "        0.61263265,  0.63302041,  0.65340816,  0.67379592,  0.69418367,\n",
      "        0.71457143,  0.73495918,  0.75534694,  0.77573469,  0.79612245,\n",
      "        0.8165102 ,  0.83689796,  0.85728571,  0.87767347,  0.89806122,\n",
      "        0.91844898,  0.93883673,  0.95922449,  0.97961224,  1.        ]), 'max_iter': 1000, 'n_alphas': 100, 'n_jobs': 1, 'normalize': False, 'positive': False, 'precompute': 'auto', 'random_state': None, 'selection': 'cyclic', 'tol': 0.0001, 'verbose': 0}\n",
      "Alpha Selected: 5.10253061224\n",
      "l1 Ratio Selected: 0.979612244898\n"
     ]
    }
   ],
   "source": [
    "a_encv = np.linspace(0.001, 10, num=50)\n",
    "l1_ratio = np.linspace(0.001, 1, num=50)\n",
    "\n",
    "encv = ElasticNetCV(l1_ratio=l1_ratio, alphas=a_encv, fit_intercept=True, cv=10)\n",
    "encv.fit(Xsc_train, y_train)\n",
    "\n",
    "print('Params:', encv.get_params())\n",
    "print('Alpha Selected:', encv.alpha_)\n",
    "print('l1 Ratio Selected:', encv.l1_ratio_)"
   ]
  },
  {
   "cell_type": "code",
   "execution_count": 301,
   "metadata": {},
   "outputs": [
    {
     "name": "stdout",
     "output_type": "stream",
     "text": [
      "Average Score: 0.878163859139\n"
     ]
    }
   ],
   "source": [
    "print('Average Score:', cross_val_score(encv, sc.transform(X_test), y_test, cv=10).mean())"
   ]
  },
  {
   "cell_type": "markdown",
   "metadata": {},
   "source": [
    "---\n",
    "DecisionTreeRegressor\n",
    "- Boosting\n",
    "    - Ada\n",
    "    - Gradient"
   ]
  },
  {
   "cell_type": "code",
   "execution_count": 302,
   "metadata": {
    "collapsed": true
   },
   "outputs": [],
   "source": [
    "from sklearn.ensemble import AdaBoostRegressor, GradientBoostingRegressor\n",
    "from sklearn.tree import DecisionTreeRegressor\n",
    "from sklearn.model_selection import GridSearchCV\n",
    "from sklearn.metrics import mean_squared_error"
   ]
  },
  {
   "cell_type": "code",
   "execution_count": 303,
   "metadata": {
    "scrolled": false
   },
   "outputs": [
    {
     "name": "stdout",
     "output_type": "stream",
     "text": [
      "Best Score: 0.851758096448\n",
      "Best Params: {'base_estimator__max_depth': 13, 'base_estimator__max_features': 'log2', 'n_estimators': 75}\n",
      "Test Score: 0.881075734875\n"
     ]
    }
   ],
   "source": [
    "ada = AdaBoostRegressor(base_estimator=DecisionTreeRegressor())\n",
    "ada_params = {\n",
    "   'n_estimators': [25, 50,75,100],\n",
    "    'base_estimator__max_depth': range(2,15),\n",
    "    'base_estimator__max_features':['auto', 'log2', None]\n",
    "}\n",
    "ada_model = GridSearchCV(ada, param_grid=ada_params)\n",
    "ada_model.fit(Xsc_train, y_train)\n",
    "print('Best Score:', ada_model.best_score_)\n",
    "print('Best Params:', ada_model.best_params_)\n",
    "print('Test Score:', ada_model.score(sc.transform(X_test), y_test))"
   ]
  },
  {
   "cell_type": "code",
   "execution_count": 304,
   "metadata": {},
   "outputs": [
    {
     "name": "stdout",
     "output_type": "stream",
     "text": [
      "Best Score: 0.857250173189\n",
      "Best Params: {'max_depth': 5, 'max_features': 'log2', 'n_estimators': 125}\n",
      "Test Score: 0.888284287263\n"
     ]
    }
   ],
   "source": [
    "gb = GradientBoostingRegressor()\n",
    "\n",
    "gb_params = {\n",
    "    'n_estimators':[125],\n",
    "    'max_depth': range(4,6),\n",
    "    'max_features': ['auto', 'log2', None]\n",
    "}\n",
    "\n",
    "gb_model = GridSearchCV(gb, param_grid=gb_params)\n",
    "gb_model.fit(Xsc_train, y_train)\n",
    "print('Best Score:', gb_model.best_score_)\n",
    "print('Best Params:', gb_model.best_params_)\n",
    "print('Test Score:', gb_model.score(sc.transform(X_test), y_test))"
   ]
  },
  {
   "cell_type": "code",
   "execution_count": 305,
   "metadata": {},
   "outputs": [
    {
     "data": {
      "text/plain": [
       "25841.294781454377"
      ]
     },
     "execution_count": 305,
     "metadata": {},
     "output_type": "execute_result"
    }
   ],
   "source": [
    "# Use this number to compare rank on kaggle - will be off because this is based on the data you have for training\n",
    "np.sqrt(mean_squared_error(y_test, gb_model.predict(sc.transform(X_test))))"
   ]
  },
  {
   "cell_type": "markdown",
   "metadata": {},
   "source": [
    "# Modeling: Part II\n",
    "- It appears that the linear regression model, the LassoCV, and the RidgeCV models weighted 'Full Bath' and 'Foundation_PConc' close to zero relative to the other features (or zeroed out in the case of LassoCV).\n",
    "-  Below I will remove these two features to see if this improves the models that gave the best scores originally."
   ]
  },
  {
   "cell_type": "code",
   "execution_count": 306,
   "metadata": {},
   "outputs": [
    {
     "data": {
      "text/plain": [
       "Index(['Overall Qual', 'Year Built', 'Year Remod/Add', 'Mas Vnr Area',\n",
       "       'Total Bsmt SF', 'Gr Liv Area', 'Garage Area', 'BsmtQual_Ex',\n",
       "       'ExterQual_TA', 'KitchenQual_Ex', 'KitchenQual_TA'],\n",
       "      dtype='object')"
      ]
     },
     "execution_count": 306,
     "metadata": {},
     "output_type": "execute_result"
    }
   ],
   "source": [
    "# Removing 'Full Bath' and 'Foundation_PConc' from X to leave only 11 features\n",
    "X_11 = X.drop(['Full Bath', 'Foundation_PConc'], axis=1)\n",
    "X_11.columns"
   ]
  },
  {
   "cell_type": "code",
   "execution_count": 307,
   "metadata": {},
   "outputs": [],
   "source": [
    "# Preprocessing\n",
    "\n",
    "X_11_train, X_11_test, y_11_train, y_11_test = train_test_split(X_11, y, random_state=42, test_size=0.3)\n",
    "\n",
    "sc_11 = StandardScaler()\n",
    "X_11_sctrain = sc_11.fit_transform(X_11_train)"
   ]
  },
  {
   "cell_type": "code",
   "execution_count": 308,
   "metadata": {},
   "outputs": [
    {
     "name": "stdout",
     "output_type": "stream",
     "text": [
      "Best Score: 0.854019796929\n",
      "Best Params: {'max_depth': 5, 'max_features': 'log2', 'n_estimators': 150}\n",
      "Test Score: 0.887626923341\n"
     ]
    }
   ],
   "source": [
    "# DecisionTreeRegressor with GradientBoostingRegressor\n",
    "gb_11 = GradientBoostingRegressor()\n",
    "gb_11_params = {\n",
    "    'n_estimators':[75,115,100,125,150],\n",
    "    'max_depth': range(2,6),                    \n",
    "    'max_features': ['auto', 'log2', None]\n",
    "}\n",
    "gb_11_model = GridSearchCV(gb_11, param_grid=gb_11_params)\n",
    "gb_11_model.fit(X_11_sctrain, y_11_train)\n",
    "print('Best Score:', gb_11_model.best_score_)\n",
    "print('Best Params:', gb_11_model.best_params_)\n",
    "print('Test Score:', gb_11_model.score(sc_11.transform(X_11_test), y_11_test))"
   ]
  },
  {
   "cell_type": "code",
   "execution_count": 309,
   "metadata": {},
   "outputs": [
    {
     "data": {
      "text/plain": [
       "25917.211671519279"
      ]
     },
     "execution_count": 309,
     "metadata": {},
     "output_type": "execute_result"
    }
   ],
   "source": [
    "# Use this number to compare rank on kaggle - will be off because this is based on the data you have for training\n",
    "np.sqrt(mean_squared_error(y_11_test, gb_11_model.predict(sc_11.transform(X_11_test))))"
   ]
  },
  {
   "cell_type": "markdown",
   "metadata": {},
   "source": [
    "The score did not seem to change much even when taking of two features. Here, I think it is best to only use the 11 features becuse have extra features creates more complications, and not more predictability of sale price."
   ]
  },
  {
   "cell_type": "code",
   "execution_count": 310,
   "metadata": {},
   "outputs": [
    {
     "name": "stdout",
     "output_type": "stream",
     "text": [
      "Params: {'alphas': array([  1.00000000e-03,   2.05061224e-01,   4.09122449e-01,\n",
      "         6.13183673e-01,   8.17244898e-01,   1.02130612e+00,\n",
      "         1.22536735e+00,   1.42942857e+00,   1.63348980e+00,\n",
      "         1.83755102e+00,   2.04161224e+00,   2.24567347e+00,\n",
      "         2.44973469e+00,   2.65379592e+00,   2.85785714e+00,\n",
      "         3.06191837e+00,   3.26597959e+00,   3.47004082e+00,\n",
      "         3.67410204e+00,   3.87816327e+00,   4.08222449e+00,\n",
      "         4.28628571e+00,   4.49034694e+00,   4.69440816e+00,\n",
      "         4.89846939e+00,   5.10253061e+00,   5.30659184e+00,\n",
      "         5.51065306e+00,   5.71471429e+00,   5.91877551e+00,\n",
      "         6.12283673e+00,   6.32689796e+00,   6.53095918e+00,\n",
      "         6.73502041e+00,   6.93908163e+00,   7.14314286e+00,\n",
      "         7.34720408e+00,   7.55126531e+00,   7.75532653e+00,\n",
      "         7.95938776e+00,   8.16344898e+00,   8.36751020e+00,\n",
      "         8.57157143e+00,   8.77563265e+00,   8.97969388e+00,\n",
      "         9.18375510e+00,   9.38781633e+00,   9.59187755e+00,\n",
      "         9.79593878e+00,   1.00000000e+01]), 'copy_X': True, 'cv': 10, 'eps': 0.001, 'fit_intercept': True, 'l1_ratio': array([ 0.001     ,  0.02138776,  0.04177551,  0.06216327,  0.08255102,\n",
      "        0.10293878,  0.12332653,  0.14371429,  0.16410204,  0.1844898 ,\n",
      "        0.20487755,  0.22526531,  0.24565306,  0.26604082,  0.28642857,\n",
      "        0.30681633,  0.32720408,  0.34759184,  0.36797959,  0.38836735,\n",
      "        0.4087551 ,  0.42914286,  0.44953061,  0.46991837,  0.49030612,\n",
      "        0.51069388,  0.53108163,  0.55146939,  0.57185714,  0.5922449 ,\n",
      "        0.61263265,  0.63302041,  0.65340816,  0.67379592,  0.69418367,\n",
      "        0.71457143,  0.73495918,  0.75534694,  0.77573469,  0.79612245,\n",
      "        0.8165102 ,  0.83689796,  0.85728571,  0.87767347,  0.89806122,\n",
      "        0.91844898,  0.93883673,  0.95922449,  0.97961224,  1.        ]), 'max_iter': 1000, 'n_alphas': 100, 'n_jobs': 1, 'normalize': False, 'positive': False, 'precompute': 'auto', 'random_state': None, 'selection': 'cyclic', 'tol': 0.0001, 'verbose': 0}\n",
      "Alpha Selected: 0.001\n",
      "l1 Ratio Selected: 0.001\n"
     ]
    }
   ],
   "source": [
    "# ElasticNetCV\n",
    "a_encv_11 = np.linspace(0.001, 10, num=50)\n",
    "l1_ratio_11 = np.linspace(0.001, 1, num=50)\n",
    "\n",
    "encv_11 = ElasticNetCV(l1_ratio=l1_ratio_11, alphas=a_encv_11, fit_intercept=True, cv=10)\n",
    "encv_11.fit(X_11_train, y_11_train)\n",
    "\n",
    "print('Params:', encv_11.get_params())\n",
    "print('Alpha Selected:', encv_11.alpha_)\n",
    "print('l1 Ratio Selected:', encv_11.l1_ratio_)"
   ]
  },
  {
   "cell_type": "code",
   "execution_count": 311,
   "metadata": {},
   "outputs": [
    {
     "name": "stdout",
     "output_type": "stream",
     "text": [
      "Average Score: 0.877387455498\n"
     ]
    }
   ],
   "source": [
    "print('Average Score:', cross_val_score(encv_11, sc_11.transform(X_11_test), y_11_test, cv=10).mean())"
   ]
  },
  {
   "cell_type": "markdown",
   "metadata": {},
   "source": [
    "The score did not seem to change much even when taking of two features. Here, I think it is best to only use the 11 features becuse have extra features creates more complications, and not more predictability of sale price.\n",
    "\n",
    "- However, after submitting this kaggle, it gave the worst error so far. Maybe the ElasticnetCV is over fit to my train data."
   ]
  },
  {
   "cell_type": "markdown",
   "metadata": {},
   "source": [
    "---\n",
    "# Test.csv\n",
    "There are 2 less columns in test than train: SalePrice and Sale Condition. This is because SalePrice and Sale Condition are the features we are predicting in regression and classification models respectively."
   ]
  },
  {
   "cell_type": "code",
   "execution_count": 312,
   "metadata": {
    "collapsed": true
   },
   "outputs": [],
   "source": [
    "test = pd.read_csv('test.csv')"
   ]
  },
  {
   "cell_type": "markdown",
   "metadata": {},
   "source": [
    "All features that were not used in the model can be dropped: ['Overall Qual', 'Year Built', 'Year Remod/Add', 'Mas Vnr Area', 'Total Bsmt SF', 'Gr Liv Area', 'Full Bath', 'Garage Area', 'BsmtQual_Ex', 'ExterQual_TA', 'Foundation_PConc', 'KitchenQual_Ex', 'KitchenQual_TA']"
   ]
  },
  {
   "cell_type": "markdown",
   "metadata": {},
   "source": [
    "However, we must create dummies and fill in NaN for a few of these festures before selecting which ones to drop."
   ]
  },
  {
   "cell_type": "code",
   "execution_count": 313,
   "metadata": {
    "collapsed": true
   },
   "outputs": [],
   "source": [
    "test_X = test.fillna(value={'Mas Vnr Type': 'None',\n",
    "        'Bsmt Qual': 'NA',\n",
    "        'Mas Vnr Area': 0.0,\n",
    "        'Total Bsmt SF': 0.0,\n",
    "        'Garage Area': 0.0\n",
    "                }, axis=0, inplace=True)"
   ]
  },
  {
   "cell_type": "code",
   "execution_count": 314,
   "metadata": {
    "collapsed": true
   },
   "outputs": [],
   "source": [
    "test_X = pd.get_dummies(test_X, prefix=['BsmtQual', \n",
    "                                    'ExterQual',\n",
    "                                    'Foundation',\n",
    "                                    'KitchenQual'\n",
    "                                    ], \n",
    "                               columns=['Bsmt Qual',\n",
    "                                        'Exter Qual',\n",
    "                                        'Foundation',\n",
    "                                        'Kitchen Qual'\n",
    "                                       ])"
   ]
  },
  {
   "cell_type": "markdown",
   "metadata": {},
   "source": [
    "---\n",
    "# Dropping features not used in my model"
   ]
  },
  {
   "cell_type": "code",
   "execution_count": 315,
   "metadata": {
    "collapsed": true
   },
   "outputs": [],
   "source": [
    "model_features = ['Overall Qual', 'Year Built', 'Year Remod/Add', 'Mas Vnr Area', 'Total Bsmt SF', \n",
    "                  'Gr Liv Area', 'Full Bath', 'Garage Area', 'BsmtQual_Ex', 'ExterQual_TA', \n",
    "                  'Foundation_PConc', 'KitchenQual_Ex', 'KitchenQual_TA']\n",
    "\n",
    "test_X = test_X.drop(list(set(list(test_X.columns)).difference(model_features)), axis=1)\n"
   ]
  },
  {
   "cell_type": "markdown",
   "metadata": {},
   "source": [
    "---\n",
    "# Predicting Sale Price"
   ]
  },
  {
   "cell_type": "markdown",
   "metadata": {},
   "source": [
    "---\n",
    "Scaling test.csv"
   ]
  },
  {
   "cell_type": "code",
   "execution_count": 316,
   "metadata": {
    "collapsed": true
   },
   "outputs": [],
   "source": [
    "test_X = sc.transform(test_X)"
   ]
  },
  {
   "cell_type": "markdown",
   "metadata": {},
   "source": [
    "---\n",
    "Getting predictions with gb"
   ]
  },
  {
   "cell_type": "code",
   "execution_count": 317,
   "metadata": {
    "collapsed": true
   },
   "outputs": [],
   "source": [
    "test_pred = gb_model.predict(test_X)"
   ]
  },
  {
   "cell_type": "code",
   "execution_count": 318,
   "metadata": {
    "collapsed": true
   },
   "outputs": [],
   "source": [
    "pred = test[['Id']].merge(pd.DataFrame(test_pred), left_index=True, right_index=True)"
   ]
  },
  {
   "cell_type": "code",
   "execution_count": 319,
   "metadata": {
    "collapsed": true
   },
   "outputs": [],
   "source": [
    "pred = pred.rename(columns = {0:'SalePrice'})\n",
    "pred.index = pred[\"Id\"]\n",
    "pred = pred.drop(['Id'], axis=1)"
   ]
  },
  {
   "cell_type": "markdown",
   "metadata": {},
   "source": [
    "Second try\n",
    "\n",
    "- gb_params = {\n",
    "    'n_estimators':[125],\n",
    "    'max_depth': range(4,6),\n",
    "    'max_features': ['auto', 'log2', None]\n",
    "}\n",
    "- Best Score: 0.860831312838\n",
    "- Best Params: {'max_depth': 4, 'max_features': 'log2', 'n_estimators': 125}\n",
    "- Test Score: 0.892675192929\n",
    "- pred.to_csv('output_submission_gb_Nov4.csv')"
   ]
  },
  {
   "cell_type": "markdown",
   "metadata": {
    "collapsed": true
   },
   "source": [
    "First try\n",
    "- gb_params = {\n",
    "    'n_estimators':[75, 100,125],\n",
    "    'max_depth': range(2,5),\n",
    "    'max_features': ['auto', 'log2', None]\n",
    "}\n",
    "- Best Score: 0.850429970855\n",
    "- Best Params: {'max_depth': 3, 'max_features': 'log2', 'n_estimators': 125}\n",
    "- Test Score: 0.894547200529\n",
    "- pred.to_csv('output_submission.csv')"
   ]
  },
  {
   "cell_type": "markdown",
   "metadata": {},
   "source": [
    "---\n",
    "Getting predictions with ada"
   ]
  },
  {
   "cell_type": "code",
   "execution_count": 320,
   "metadata": {
    "collapsed": true
   },
   "outputs": [],
   "source": [
    "test_pred_ada = ada_model.predict(test_X)\n",
    "pred_ada = test[['Id']].merge(pd.DataFrame(test_pred_ada), left_index=True, right_index=True)\n",
    "pred_ada = pred_ada.rename(columns = {0:'SalePrice'})\n",
    "pred_ada.index = pred_ada[\"Id\"]\n",
    "pred_ada = pred_ada.drop(['Id'], axis=1)"
   ]
  },
  {
   "cell_type": "code",
   "execution_count": 321,
   "metadata": {
    "collapsed": true
   },
   "outputs": [],
   "source": [
    "#pred_ada.to_csv('output_submission2.csv')\n",
    "#was worse than gb"
   ]
  },
  {
   "cell_type": "markdown",
   "metadata": {},
   "source": [
    "---\n",
    "Getting Predictions with LinearRegression"
   ]
  },
  {
   "cell_type": "code",
   "execution_count": 322,
   "metadata": {
    "collapsed": true
   },
   "outputs": [],
   "source": [
    "test_pred_lm = lm_model.predict(test_X)\n",
    "pred_lm = test[['Id']].merge(pd.DataFrame(test_pred_lm), left_index=True, right_index=True)\n",
    "pred_lm = pred_lm.rename(columns = {0:'SalePrice'})\n",
    "pred_lm.index = pred_lm[\"Id\"]\n",
    "pred_lm = pred_lm.drop(['Id'], axis=1)"
   ]
  },
  {
   "cell_type": "code",
   "execution_count": 323,
   "metadata": {
    "collapsed": true
   },
   "outputs": [],
   "source": [
    "#pred_lm.to_csv('output_submission3.csv')\n",
    "#was worse than gb and ada"
   ]
  },
  {
   "cell_type": "code",
   "execution_count": 324,
   "metadata": {
    "collapsed": true
   },
   "outputs": [],
   "source": [
    "#pred_lm.to_csv('output_submission_lm_Nov4.csv')\n",
    "#No improvement"
   ]
  },
  {
   "cell_type": "markdown",
   "metadata": {},
   "source": [
    "---\n",
    "Getting Predictions with ElasticNetCV"
   ]
  },
  {
   "cell_type": "code",
   "execution_count": 325,
   "metadata": {
    "collapsed": true
   },
   "outputs": [],
   "source": [
    "test_pred_encv = encv.predict(test_X)\n",
    "pred_encv = test[['Id']].merge(pd.DataFrame(test_pred_encv), left_index=True, right_index=True)\n",
    "pred_encv = pred_encv.rename(columns = {0:'SalePrice'})\n",
    "pred_encv.index = pred_encv[\"Id\"]\n",
    "pred_encv = pred_encv.drop(['Id'], axis=1)"
   ]
  },
  {
   "cell_type": "code",
   "execution_count": 326,
   "metadata": {
    "collapsed": true
   },
   "outputs": [],
   "source": [
    "#pred_encv.to_csv('output_submission_encv_Nov4.csv')\n",
    "# Was a worse model than gb"
   ]
  },
  {
   "cell_type": "markdown",
   "metadata": {
    "collapsed": true
   },
   "source": [
    "---\n",
    "### Getting predictions only using 11 of the original 13 features"
   ]
  },
  {
   "cell_type": "code",
   "execution_count": 334,
   "metadata": {},
   "outputs": [],
   "source": [
    "test_X_11 = test.fillna(value={'Mas Vnr Type': 'None',\n",
    "        'Bsmt Qual': 'NA',\n",
    "        'Mas Vnr Area': 0.0,\n",
    "        'Total Bsmt SF': 0.0,\n",
    "        'Garage Area': 0.0\n",
    "                }, axis=0, inplace=True)\n",
    "\n",
    "test_X_11 = pd.get_dummies(test_X_11, prefix=['BsmtQual', \n",
    "                                    'ExterQual',\n",
    "                                    'KitchenQual'\n",
    "                                    ], \n",
    "                               columns=['Bsmt Qual',\n",
    "                                        'Exter Qual',\n",
    "                                        'Kitchen Qual'\n",
    "                                       ])"
   ]
  },
  {
   "cell_type": "code",
   "execution_count": 335,
   "metadata": {},
   "outputs": [],
   "source": [
    "model_11_features = ['Overall Qual', 'Year Built', 'Year Remod/Add', 'Mas Vnr Area', 'Total Bsmt SF', 'Gr Liv Area', \n",
    "                  'Garage Area', 'BsmtQual_Ex', 'ExterQual_TA', 'KitchenQual_Ex', 'KitchenQual_TA']\n",
    "\n",
    "test_X_11 = test_X_11.drop(list(set(list(test_X_11.columns)).difference(model_11_features)), axis=1)\n",
    "\n",
    "test_X_11 = sc_11.transform(test_X_11)"
   ]
  },
  {
   "cell_type": "markdown",
   "metadata": {},
   "source": [
    "---\n",
    "Getting predictions with gb_11_model"
   ]
  },
  {
   "cell_type": "code",
   "execution_count": 336,
   "metadata": {
    "collapsed": true
   },
   "outputs": [],
   "source": [
    "test_pred_gb_11_model = gb_11_model.predict(test_X_11)\n",
    "pred_gb_11_model = test[['Id']].merge(pd.DataFrame(test_pred_gb_11_model), left_index=True, right_index=True)\n",
    "pred_gb_11_model = pred_gb_11_model.rename(columns = {0:'SalePrice'})\n",
    "pred_gb_11_model.index = pred_gb_11_model[\"Id\"]\n",
    "pred_gb_11_model = pred_gb_11_model.drop(['Id'], axis=1)"
   ]
  },
  {
   "cell_type": "code",
   "execution_count": 339,
   "metadata": {},
   "outputs": [],
   "source": [
    "#third try\n",
    "#pred_gb_11_model.to_csv('output_submission_gb_11.csv')\n",
    "# Not an improved score on kaggle"
   ]
  },
  {
   "cell_type": "code",
   "execution_count": 201,
   "metadata": {
    "collapsed": true
   },
   "outputs": [],
   "source": [
    "# Second try\n",
    "#pred_gb2.to_csv('output_submission_gb2_12features.csv')\n",
    "# Best Score; use this model in the competition"
   ]
  },
  {
   "cell_type": "code",
   "execution_count": 164,
   "metadata": {
    "collapsed": true
   },
   "outputs": [],
   "source": [
    "#pred_gb2.to_csv('output_submission_gb2.csv')\n",
    "# Even though score was higher, it did not score higher when submitted to Kaggle"
   ]
  },
  {
   "cell_type": "markdown",
   "metadata": {},
   "source": [
    "---\n",
    "Getting Predictions with ElasticNetCV"
   ]
  },
  {
   "cell_type": "code",
   "execution_count": 340,
   "metadata": {
    "collapsed": true
   },
   "outputs": [],
   "source": [
    "test_pred_encv_11 = encv_11.predict(test_X_11)\n",
    "pred_encv_11 = test[['Id']].merge(pd.DataFrame(test_pred_encv_11), left_index=True, right_index=True)\n",
    "pred_encv_11 = pred_encv_11.rename(columns = {0:'SalePrice'})\n",
    "pred_encv_11.index = pred_encv_11[\"Id\"]\n",
    "pred_encv_11 = pred_encv_11.drop(['Id'], axis=1)"
   ]
  },
  {
   "cell_type": "code",
   "execution_count": 341,
   "metadata": {
    "collapsed": true
   },
   "outputs": [],
   "source": [
    "#second try\n",
    "#pred_encv_11.to_csv('output_submission_encv_11.csv')\n",
    "# This was the worst score on kaggle."
   ]
  },
  {
   "cell_type": "code",
   "execution_count": 186,
   "metadata": {
    "collapsed": true
   },
   "outputs": [],
   "source": [
    "#pred_encv2.to_csv('output_submission_encv2_Nov4.csv')"
   ]
  },
  {
   "cell_type": "code",
   "execution_count": null,
   "metadata": {
    "collapsed": true
   },
   "outputs": [],
   "source": []
  }
 ],
 "metadata": {
  "kernelspec": {
   "display_name": "Python 3",
   "language": "python",
   "name": "python3"
  },
  "language_info": {
   "codemirror_mode": {
    "name": "ipython",
    "version": 3
   },
   "file_extension": ".py",
   "mimetype": "text/x-python",
   "name": "python",
   "nbconvert_exporter": "python",
   "pygments_lexer": "ipython3",
   "version": "3.6.1"
  }
 },
 "nbformat": 4,
 "nbformat_minor": 2
}
